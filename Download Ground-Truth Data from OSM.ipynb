{
 "cells": [
  {
   "cell_type": "markdown",
   "metadata": {},
   "source": [
    "In order to get ground truth, we're going to download data from OpenStreetMaps.  OpenStreetMaps can be hard to work with, but fortunately there is a great library that can help called geopandas osm.  If you haven't already, you will need to set up the geospatial tools before you can use this script."
   ]
  },
  {
   "cell_type": "code",
   "execution_count": 1,
   "metadata": {},
   "outputs": [
    {
     "name": "stderr",
     "output_type": "stream",
     "text": [
      "/home/alan/.virtualenvs/drago/lib/python3.5/site-packages/geopandas_osm/osm.py:299: FutureWarning: by argument to sort_index is deprecated, pls use .sort_values(by=...)\n",
      "  df = df.sort_index(by='index')[['lon', 'lat']]\n"
     ]
    }
   ],
   "source": [
    "import json\n",
    "\n",
    "import shapely.geometry\n",
    "import geopandas as gpd\n",
    "import geopandas_osm.osm\n",
    "\n",
    "meta_df = gpd.read_file('vectors/image_metadata.geojson')\n",
    "poly = shapely.geometry.box(*meta_df.unary_union.bounds)\n",
    "\n",
    "osm_df = geopandas_osm.osm.query_osm('way', poly, recurse='down', tags='building')\n",
    "building_columns = osm_df.columns\n",
    "\n",
    "buildings = osm_df[~osm_df.building.isnull()][['building', 'name', 'geometry']]\n",
    "building_centroids = buildings.set_geometry(buildings.centroid, inplace=False)\n",
    "building_centroids.to_file('vectors/building_centers.geojson', 'GeoJSON')"
   ]
  },
  {
   "cell_type": "markdown",
   "metadata": {},
   "source": [
    "Now that we downloaded the buildings, let's have a look at all the different building types, and how often they occur."
   ]
  },
  {
   "cell_type": "code",
   "execution_count": 3,
   "metadata": {},
   "outputs": [
    {
     "data": {
      "text/plain": [
       "Counter({'abandoned': 1,\n",
       "         'amenity': 1,\n",
       "         'apartments': 18,\n",
       "         'church': 15,\n",
       "         'civic': 5,\n",
       "         'commercial': 2,\n",
       "         'construction': 3,\n",
       "         'farm': 1,\n",
       "         'garage': 133,\n",
       "         'garages': 10,\n",
       "         'greenhouse': 1,\n",
       "         'historic': 1,\n",
       "         'hospital': 1,\n",
       "         'house': 54,\n",
       "         'industrial': 1,\n",
       "         'kindergarten': 1,\n",
       "         'office': 5,\n",
       "         'public': 1,\n",
       "         'residential': 1010,\n",
       "         'retail': 49,\n",
       "         'roof': 38,\n",
       "         'school': 41,\n",
       "         'shop': 1,\n",
       "         'temple': 1,\n",
       "         'train_station': 13,\n",
       "         'walled': 1,\n",
       "         'warehouse': 1,\n",
       "         'yes': 68644})"
      ]
     },
     "execution_count": 3,
     "metadata": {},
     "output_type": "execute_result"
    }
   ],
   "source": [
    "from collections import Counter\n",
    "\n",
    "Counter(building_centroids.building.values)"
   ]
  },
  {
   "cell_type": "markdown",
   "metadata": {},
   "source": [
    "We can see that these match up with the building types described on the [OSM Wiki](http://wiki.openstreetmap.org/wiki/Map_Features#Building).  If you want to view the geojson file you downloaded, you can use QGIS or [geojson.io](http://geojson.io)\n",
    "\n",
    "Next, let's get the land-use data that's in OSM."
   ]
  },
  {
   "cell_type": "code",
   "execution_count": 4,
   "metadata": {},
   "outputs": [
    {
     "name": "stderr",
     "output_type": "stream",
     "text": [
      "/home/alan/.virtualenvs/drago/lib/python3.5/site-packages/geopandas_osm/osm.py:299: FutureWarning: by argument to sort_index is deprecated, pls use .sort_values(by=...)\n",
      "  df = df.sort_index(by='index')[['lon', 'lat']]\n"
     ]
    },
    {
     "name": "stdout",
     "output_type": "stream",
     "text": [
      "['cemetery' 'grass' 'forest' 'basin' 'retail' 'recreation_ground'\n",
      " 'industrial' 'farmyard' 'quarry' 'school' 'residential' 'vineyard'\n",
      " 'allotments' 'commercial' 'farmland' 'construction' 'sand' 'brownfield'\n",
      " 'greenhouse_horticulture' 'subdivision' 'meadow']\n",
      "(332, 50)\n"
     ]
    }
   ],
   "source": [
    "osm_df = geopandas_osm.osm.query_osm('way', poly, recurse='down', tags='landuse')\n",
    "landuse = osm_df[~osm_df.landuse.isnull()]\n",
    "print(landuse.landuse.unique())\n",
    "print(landuse.shape)\n",
    "landuse.to_file('vectors/landuse.geojson', 'GeoJSON')"
   ]
  },
  {
   "cell_type": "markdown",
   "metadata": {
    "collapsed": true
   },
   "source": [
    "Now let's download the waterways"
   ]
  },
  {
   "cell_type": "code",
   "execution_count": 5,
   "metadata": {},
   "outputs": [
    {
     "name": "stdout",
     "output_type": "stream",
     "text": [
      "['stream' 'riverbank' 'river']\n",
      "(41, 6)\n"
     ]
    },
    {
     "name": "stderr",
     "output_type": "stream",
     "text": [
      "/home/alan/.virtualenvs/drago/lib/python3.5/site-packages/geopandas_osm/osm.py:299: FutureWarning: by argument to sort_index is deprecated, pls use .sort_values(by=...)\n",
      "  df = df.sort_index(by='index')[['lon', 'lat']]\n"
     ]
    }
   ],
   "source": [
    "osm_df = geopandas_osm.osm.query_osm('way', poly, recurse='down', tags='waterway')\n",
    "waterways = osm_df[~osm_df.waterway.isnull()]\n",
    "print(waterways.waterway.unique())\n",
    "print(waterways.shape)\n",
    "waterways.to_file('vectors/waterways.geojson', 'GeoJSON')"
   ]
  },
  {
   "cell_type": "markdown",
   "metadata": {},
   "source": [
    "Finally, let's get the natural features that are marked in OSM."
   ]
  },
  {
   "cell_type": "code",
   "execution_count": 6,
   "metadata": {},
   "outputs": [
    {
     "name": "stdout",
     "output_type": "stream",
     "text": [
      "['fell' 'water' 'wood' 'sand']\n",
      "(58, 8)\n"
     ]
    },
    {
     "name": "stderr",
     "output_type": "stream",
     "text": [
      "/home/alan/.virtualenvs/drago/lib/python3.5/site-packages/geopandas_osm/osm.py:299: FutureWarning: by argument to sort_index is deprecated, pls use .sort_values(by=...)\n",
      "  df = df.sort_index(by='index')[['lon', 'lat']]\n"
     ]
    }
   ],
   "source": [
    "osm_df = geopandas_osm.osm.query_osm('way', poly, recurse='down', tags='natural')\n",
    "nature = osm_df[~osm_df.natural.isnull()]\n",
    "print(nature.natural.unique())\n",
    "print(nature.shape)\n",
    "nature.to_file('vectors/nature.geojson', 'GeoJSON')"
   ]
  },
  {
   "cell_type": "code",
   "execution_count": null,
   "metadata": {
    "collapsed": true
   },
   "outputs": [],
   "source": []
  }
 ],
 "metadata": {
  "kernelspec": {
   "display_name": "Python 3",
   "language": "python",
   "name": "python3"
  },
  "language_info": {
   "codemirror_mode": {
    "name": "ipython",
    "version": 3
   },
   "file_extension": ".py",
   "mimetype": "text/x-python",
   "name": "python",
   "nbconvert_exporter": "python",
   "pygments_lexer": "ipython3",
   "version": "3.5.2"
  }
 },
 "nbformat": 4,
 "nbformat_minor": 2
}
