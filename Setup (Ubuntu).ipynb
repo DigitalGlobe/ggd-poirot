{
 "cells": [
  {
   "cell_type": "markdown",
   "metadata": {
    "deletable": true,
    "editable": true
   },
   "source": [
    "# Python Tools\n",
    "\n",
    "In order to work on geospatial tools, you will need to install the toolset for geospatial data.  Everything here relies in GDAL.  GDAL is a core set of tools for reading, writing, and manipulating geospatial data formats.  It is very hard to install.  It's possible to install it on a mac, but it isnt easy.\n",
    "\n",
    "### GDAL + GeoPandas:\n",
    "```\n",
    "sudo add-apt-repository ppa:ubuntugis/ppa\n",
    "sudo apt-get update\n",
    "sudo apt-get install libgdal-dev\n",
    "sudo apt-get install gdal-bin\n",
    "\n",
    "export CPLUS_INCLUDE_PATH=/usr/include/gdal\n",
    "export C_INCLUDE_PATH=/usr/include/gdal\n",
    "\n",
    "pip install numpy scipy scikit-learn scikit-image\n",
    "pip install shapely fiona geopandas\n",
    "```\n",
    "\n",
    "### Install geopandas osm\n",
    "```\n",
    "pip install git+git://github.com/jwass/geopandas_osm.git\n",
    "```\n",
    "\n",
    "### OpenCV:\n",
    "```\n",
    "sudo apt-get install libopencv-dev python-opencv\n",
    "pip install opencv-python\n",
    "```\n",
    "\n",
    "### Rasterio\n",
    "```\n",
    "pip install rasterio\n",
    "```\n",
    "\n",
    "### TensorFlow / Keras\n",
    "Follow these instructions\n",
    "http://ramhiser.com/2016/01/05/installing-tensorflow-on-an-aws-ec2-instance-with-gpu-support/\n",
    "\n",
    "And install h5py too\n",
    "```\n",
    "pip install h5py\n",
    "```"
   ]
  },
  {
   "cell_type": "markdown",
   "metadata": {
    "deletable": true,
    "editable": true
   },
   "source": [
    "# GPU Setup\n",
    "If you want to use machine learning tools on a GPU, you will have to set up the GPU tools.  If you aren't training NNs on this computer, or if the computer is already configured, then you can skip this part.\n",
    "\n",
    "### Install cuda  \n",
    "https://developer.nvidia.com/cuda-downloads\n",
    "`sudo dpkg -i cuda-repo-ubuntu1404-8-0-local-ga2_8.0.61-1_amd64.deb`\n",
    "`sudo apt-get update`\n",
    "`sudo apt-get install cuda`\n",
    "\n",
    "### Install CUDNN\n",
    "Once the CUDA Toolkit is installed, download cuDNN v5.1 Library for Linux (note that you'll need to register for the Accelerated Computing Developer Program).\n",
    "Once downloaded, uncompress the files and copy them into the CUDA Toolkit directory (assumed here to be in /usr/local/cuda/):\n",
    "```\n",
    "sudo tar -xvf cudnn-8.0-linux-x64-v5.1.tgz -C /usr/local\n",
    "```\n",
    "\n",
    "### Install TensorFlow and Keras\n",
    "```\n",
    "pip install tensorflow\n",
    "pip install keras\n",
    "```"
   ]
  },
  {
   "cell_type": "code",
   "execution_count": null,
   "metadata": {
    "collapsed": true,
    "deletable": true,
    "editable": true
   },
   "outputs": [],
   "source": []
  }
 ],
 "metadata": {
  "kernelspec": {
   "display_name": "Python 3",
   "language": "python",
   "name": "python3"
  },
  "language_info": {
   "codemirror_mode": {
    "name": "ipython",
    "version": 3
   },
   "file_extension": ".py",
   "mimetype": "text/x-python",
   "name": "python",
   "nbconvert_exporter": "python",
   "pygments_lexer": "ipython3",
   "version": "3.5.2"
  }
 },
 "nbformat": 4,
 "nbformat_minor": 2
}
