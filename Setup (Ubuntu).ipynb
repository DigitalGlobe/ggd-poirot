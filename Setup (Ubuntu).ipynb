{
 "cells": [
  {
   "cell_type": "markdown",
   "metadata": {},
   "source": [
    "In order to work on geospatial tools, you will need to install the toolset for geospatial data.  Everything here relies in GDAL.  GDAL is a core set of tools for reading, writing, and manipulating geospatial data formats.  It is very hard to install.  It's possible to install it on a mac, but it isnt easy.\n",
    "\n",
    "GDAL:\n",
    "```\n",
    "sudo add-apt-repository ppa:ubuntugis/ppa\n",
    "sudo apt-get update\n",
    "sudo apt-get install libgdal-dev\n",
    "sudo apt-get install gdal-bin\n",
    "\n",
    "export CPLUS_INCLUDE_PATH=/usr/include/gdal\n",
    "export C_INCLUDE_PATH=/usr/include/gdal\n",
    "\n",
    "pip install ipython jupyter\n",
    "pip install numpy scipy scikit-learn scikit-image beautifulsoup4 opencv-python\n",
    "pip install shapely fiona geopandas geoio owslib tifffile h5py\n",
    "```\n",
    "\n",
    "Install geopandas osm\n",
    "```\n",
    "pip install git+git://github.com/jwass/geopandas_osm.git\n",
    "```\n"
   ]
  }
 ],
 "metadata": {
  "kernelspec": {
   "display_name": "Python 3",
   "language": "python",
   "name": "python3"
  },
  "language_info": {
   "codemirror_mode": {
    "name": "ipython",
    "version": 3
   },
   "file_extension": ".py",
   "mimetype": "text/x-python",
   "name": "python",
   "nbconvert_exporter": "python",
   "pygments_lexer": "ipython3",
   "version": "3.5.2"
  }
 },
 "nbformat": 4,
 "nbformat_minor": 2
}
