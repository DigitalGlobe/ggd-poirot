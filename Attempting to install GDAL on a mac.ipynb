{
 "cells": [
  {
   "cell_type": "markdown",
   "metadata": {},
   "source": [
    "Installing GDAL on a mac is hard, and I dont reccomend it.  If you're foolhardy enough to try, then here are some pointers.\n",
    "\n",
    "I have heard rumors that it's possible to install GDAL on a mac using anaconda.  I can't confirm these rumors, since I had to [compile it from source](http://alanschoen.com/install_gdal_mac/)\n",
    "\n",
    "```\n",
    "conda create --name geo python=3.5 numpy scipy pandas jupyter\n",
    "conda activate geo\n",
    "conda install -c https://conda.anaconda.org/ioos geopandas=0.2.1\n",
    "```\n",
    "\n",
    "You might also need to do this, but it's not entirely clear to me when you need to do it:\n",
    "```\n",
    "conda install -c conda-forge gdal=2.1.3\n",
    "conda install -c conda-forge fiona “libgdal<2.0”\n",
    "```\n",
    "\n",
    "If you get it working, I would appreciate your feedback.\n",
    "\n",
    "### Test it out\n",
    "Now that you effortlessly installed gdal and geopandas, let's test it out.\n",
    "\n",
    "Now we can try using GDAL.  If this code runs without crashing, then you're all good!"
   ]
  },
  {
   "cell_type": "code",
   "execution_count": null,
   "metadata": {
    "collapsed": true
   },
   "outputs": [],
   "source": [
    "import gdal, gdalconst\n",
    "\n",
    "dataset = gdal.Open('rasters/test.tiff', gdalconst.GA_ReadOnly)\n",
    "\n",
    "tif_transform = dataset.GetGeoTransform()\n",
    "tif_transform_inv = gdal.InvGeoTransform(tif_transform)\n",
    "\n",
    "ulx, xres, xskew, uly, yskew, yres = tif_transform\n",
    "lrx = ulx + (dataset.RasterXSize * xres)\n",
    "lry = uly + (dataset.RasterYSize * yres)\n",
    "\n",
    "bbox = (ulx, uly, lrx, lry)\n",
    "projection = dataset.GetProjectionRef()"
   ]
  },
  {
   "cell_type": "code",
   "execution_count": null,
   "metadata": {
    "collapsed": true
   },
   "outputs": [],
   "source": [
    "import geopandas as gpd\n",
    "\n",
    "buildings = gpd.read_file('vectors/building_centers.geojson')\n",
    "buildings.unary_union"
   ]
  }
 ],
 "metadata": {
  "kernelspec": {
   "display_name": "Python 3",
   "language": "python",
   "name": "python3"
  },
  "language_info": {
   "codemirror_mode": {
    "name": "ipython",
    "version": 3
   },
   "file_extension": ".py",
   "mimetype": "text/x-python",
   "name": "python",
   "nbconvert_exporter": "python",
   "pygments_lexer": "ipython3",
   "version": "3.5.2"
  }
 },
 "nbformat": 4,
 "nbformat_minor": 2
}
