{
 "cells": [
  {
   "cell_type": "markdown",
   "metadata": {},
   "source": [
    "I have heard rumors that it's possible to install GDAL on a mac using anaconda.  I can't confirm these rumors, since I had to [compile it from source](http://alanschoen.com/install_gdal_mac/)\n",
    "\n",
    "```\n",
    "conda create --name geo python=3.4 numpy scipy pandas jupyter\n",
    "conda install -c https://conda.anaconda.org/ioos geopandas=0.2.1\n",
    "```\n",
    "\n",
    "Now we can try using GDAL.  If this code runs without crashing, then you're all good!"
   ]
  },
  {
   "cell_type": "code",
   "execution_count": null,
   "metadata": {
    "collapsed": true
   },
   "outputs": [],
   "source": [
    "import gdal, gdalconst\n",
    "\n",
    "dataset = gdal.Open('rasters/test.tiff', gdalconst.GA_ReadOnly)\n",
    "\n",
    "tif_transform = dataset.GetGeoTransform()\n",
    "tif_transform_inv = gdal.InvGeoTransform(tif_transform)\n",
    "\n",
    "ulx, xres, xskew, uly, yskew, yres = tif_transform\n",
    "lrx = ulx + (dataset.RasterXSize * xres)\n",
    "lry = uly + (dataset.RasterYSize * yres)\n",
    "\n",
    "bbox = (ulx, uly, lrx, lry)\n",
    "projection = dataset.GetProjectionRef()"
   ]
  }
 ],
 "metadata": {
  "kernelspec": {
   "display_name": "Python 3",
   "language": "python",
   "name": "python3"
  },
  "language_info": {
   "codemirror_mode": {
    "name": "ipython",
    "version": 3
   },
   "file_extension": ".py",
   "mimetype": "text/x-python",
   "name": "python",
   "nbconvert_exporter": "python",
   "pygments_lexer": "ipython3",
   "version": "3.5.2"
  }
 },
 "nbformat": 4,
 "nbformat_minor": 2
}
